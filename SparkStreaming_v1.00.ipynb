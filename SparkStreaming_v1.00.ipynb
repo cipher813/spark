{
 "cells": [
  {
   "cell_type": "code",
   "execution_count": 1,
   "metadata": {},
   "outputs": [],
   "source": [
    "import findspark\n",
    "\n",
    "findspark.init()\n",
    "\n",
    "from pyspark import SparkContext\n",
    "from pyspark.streaming import StreamingContext\n",
    "from pyspark.sql import SQLContext\n",
    "from pyspark.sql.functions import desc\n",
    "\n",
    "from collections import namedtuple\n",
    "\n",
    "# import tweepy\n",
    "# from tweepy import OAuthHandler, Stream\n",
    "# from tweepy.streaming import StreamListener\n",
    "# import socket\n",
    "# import json"
   ]
  },
  {
   "cell_type": "code",
   "execution_count": 2,
   "metadata": {},
   "outputs": [],
   "source": [
    "sc = SparkContext()\n",
    "ssc = StreamingContext(sc, 10)\n",
    "sqlContext = SQLContext(sc)\n",
    "\n",
    "socket_stream = ssc.socketTextStream(\"127.0.0.1\",9997)\n",
    "lines = socket_stream.window(20)\n",
    "\n",
    "fields = ('tag','count')\n",
    "Tweet = namedtuple('Tweet',fields)\n",
    "\n",
    "(lines.flatMap(lambda text: text.split(\" \"))\n",
    " .filter(lambda word: word.lower().startswith('#'))\n",
    " .map(lambda word: (word.lower(),1))\n",
    " .reduceByKey(lambda a, b: a+ b)\n",
    " .map(lambda rec: Tweet(rec[0],rec[1]))\n",
    " .foreachRDD(lambda rdd: rdd.toDF().sort(desc('count'))\n",
    "             .limit(10).registerTempTable('tweets')))"
   ]
  },
  {
   "cell_type": "code",
   "execution_count": 3,
   "metadata": {},
   "outputs": [],
   "source": [
    "ssc.start()"
   ]
  },
  {
   "cell_type": "code",
   "execution_count": 9,
   "metadata": {},
   "outputs": [],
   "source": [
    "import time\n",
    "from IPython import display\n",
    "import matplotlib.pyplot as plt\n",
    "import seaborn as sns\n",
    "%matplotlib inline"
   ]
  },
  {
   "cell_type": "code",
   "execution_count": 12,
   "metadata": {},
   "outputs": [
    {
     "data": {
      "image/png": "[encoded data removed]",
      "text/plain": [
       "<Figure size 720x576 with 1 Axes>"
      ]
     },
     "metadata": {
      "needs_background": "light"
     },
     "output_type": "display_data"
    }
   ],
   "source": [
    "count = 0\n",
    "while count < 10:\n",
    "    \n",
    "    time.sleep(3)\n",
    "    top_10_tweets = sqlContext.sql('Select tag, count from tweets')\n",
    "    top_10_df = top_10_tweets.toPandas()\n",
    "    display.clear_output(wait=True)\n",
    "    plt.figure(figsize=(10,8))\n",
    "    sns.barplot(x=\"count\",y=\"tag\",data=top_10_df)\n",
    "    plt.show()\n",
    "    count+=1"
   ]
  },
  {
   "cell_type": "code",
   "execution_count": 13,
   "metadata": {},
   "outputs": [],
   "source": [
    "ssc.stop()"
   ]
  },
  {
   "cell_type": "code",
   "execution_count": 4,
   "metadata": {},
   "outputs": [],
   "source": [
    "# consumer_key = %env TWITTER_API_KEY\n",
    "# consumer_secret = %env TWITTER_API_SECRET_KEY\n",
    "# access_token = %env TWITTER_ACCESS_TOKEN\n",
    "# access_secret = %env TWITTER_ACCESS_TOKEN_SECRET"
   ]
  },
  {
   "cell_type": "code",
   "execution_count": 5,
   "metadata": {},
   "outputs": [],
   "source": [
    "# class TwitterListener(StreamListener):\n",
    "    \n",
    "#     def __init__(self, csocket):\n",
    "#         self.client_socket = csocket\n",
    "        \n",
    "#     def on_data(self,data):\n",
    "        \n",
    "#         try:\n",
    "#             msg = json.loads(data)\n",
    "#             print(msg['text'].encode('utf-8'))\n",
    "#             self.client_socket.send(msg['text'].encode('utf-8'))\n",
    "#             return True\n",
    "#         except BaseException as e:\n",
    "#             print(\"ERROR \",e)\n",
    "#         return True\n",
    "    \n",
    "#     def on_error(self, status):\n",
    "#         print(status)\n",
    "#         return True"
   ]
  },
  {
   "cell_type": "code",
   "execution_count": 6,
   "metadata": {},
   "outputs": [],
   "source": [
    "# def sendData(c_socket):\n",
    "#     auth = OAuthHandler(consumer_key, consumer_secret)\n",
    "#     auth.set_access_token(access_token,access_secret)\n",
    "    \n",
    "#     twitter_stream = Stream(auth, TweetListener(c_socket))\n",
    "#     twitter_Stream.filter(track=['guitar'])"
   ]
  },
  {
   "cell_type": "code",
   "execution_count": 7,
   "metadata": {},
   "outputs": [],
   "source": [
    "# if __name__ == '__main__':\n",
    "#     s = socket.socket()\n",
    "#     host = '127.0.0.1'\n",
    "#     port = 9999\n",
    "#     s.bind((host,port))\n",
    "    \n",
    "#     print(f'listening on port {port}')\n",
    "    \n",
    "#     s.listen(5)\n",
    "#     c,addr = s.accept()\n",
    "    \n",
    "#     sendData(c)"
   ]
  },
  {
   "cell_type": "code",
   "execution_count": null,
   "metadata": {},
   "outputs": [],
   "source": []
  },
  {
   "cell_type": "code",
   "execution_count": 8,
   "metadata": {},
   "outputs": [],
   "source": [
    "# sc = SparkContext('local[2]','NetworkWordCount')\n",
    "# ssc = StreamingContext(sc,1)\n",
    "# lines = ssc.socketTextStream('localhost',9999)\n",
    "# words = lines.flatMap(lambda line: line.split(' '))\n",
    "# pairs = words.map(lambda word: (word,1))\n",
    "# word_counts = pairs.reduceByKey(lambda num1, num2: num1+num2)\n",
    "# word_counts.pprint()\n",
    "# ssc.start()"
   ]
  },
  {
   "cell_type": "code",
   "execution_count": null,
   "metadata": {},
   "outputs": [],
   "source": []
  },
  {
   "cell_type": "code",
   "execution_count": null,
   "metadata": {},
   "outputs": [],
   "source": []
  },
  {
   "cell_type": "code",
   "execution_count": null,
   "metadata": {},
   "outputs": [],
   "source": []
  },
  {
   "cell_type": "code",
   "execution_count": null,
   "metadata": {},
   "outputs": [],
   "source": []
  },
  {
   "cell_type": "code",
   "execution_count": null,
   "metadata": {},
   "outputs": [],
   "source": []
  },
  {
   "cell_type": "code",
   "execution_count": null,
   "metadata": {},
   "outputs": [],
   "source": []
  },
  {
   "cell_type": "code",
   "execution_count": null,
   "metadata": {},
   "outputs": [],
   "source": []
  },
  {
   "cell_type": "code",
   "execution_count": null,
   "metadata": {},
   "outputs": [],
   "source": []
  }
 ],
 "metadata": {
  "kernelspec": {
   "display_name": "pyspark",
   "language": "python",
   "name": "pyspark"
  },
  "language_info": {
   "codemirror_mode": {
    "name": "ipython",
    "version": 3
   },
   "file_extension": ".py",
   "mimetype": "text/x-python",
   "name": "python",
   "nbconvert_exporter": "python",
   "pygments_lexer": "ipython3",
   "version": "3.7.3"
  }
 },
 "nbformat": 4,
 "nbformat_minor": 2
}
